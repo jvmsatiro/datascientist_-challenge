{
  "nbformat": 4,
  "nbformat_minor": 0,
  "metadata": {
    "colab": {
      "name": "Desafio_A3_Data.ipynb",
      "provenance": [],
      "collapsed_sections": [],
      "authorship_tag": "ABX9TyOvmPkCm2IK3Qi/l7n8EY8H",
      "include_colab_link": true
    },
    "kernelspec": {
      "name": "python3",
      "display_name": "Python 3"
    },
    "language_info": {
      "name": "python"
    }
  },
  "cells": [
    {
      "cell_type": "markdown",
      "metadata": {
        "id": "view-in-github",
        "colab_type": "text"
      },
      "source": [
        "<a href=\"https://colab.research.google.com/github/jvmsatiro/datascientist_-challenge/blob/main/Desafio_A3_Data.ipynb\" target=\"_parent\"><img src=\"https://colab.research.google.com/assets/colab-badge.svg\" alt=\"Open In Colab\"/></a>"
      ]
    },
    {
      "cell_type": "markdown",
      "source": [
        "Desafio Cientista de Dados A3 Data\n",
        "\n",
        "---\n",
        "\n",
        "Base de Dados: CENIPA - Ocorrências Aeronáuticas na Aviação Civil Brasileira\n",
        "\n",
        "Candidato: João Victor Melquiades Satiro\n",
        "\n",
        "Proposta: Classificação do tipo de ocorrencia utilizando dados da aeronave. \n",
        "\n",
        "\n",
        "Data:15/06/2022"
      ],
      "metadata": {
        "id": "bZu6BySQ7t2Y"
      }
    },
    {
      "cell_type": "code",
      "execution_count": 1,
      "metadata": {
        "id": "6RlcK_3noev9"
      },
      "outputs": [],
      "source": [
        "# Bibliotecas Utilizadas na Aplicação \n",
        "import pandas as pd\n",
        "import plotly.express as px\n",
        "import matplotlib\n",
        "import matplotlib.pyplot as plt\n",
        "import numpy as np\n",
        "\n",
        "\n"
      ]
    },
    {
      "cell_type": "code",
      "source": [
        "# Arquivos de Dados Importados do GitHub \n",
        "aeronave='https://raw.githubusercontent.com/jvmsatiro/datascientist_-challenge/main/data/aeronave.csv'\n",
        "fator_contribuinte='https://raw.githubusercontent.com/jvmsatiro/datascientist_-challenge/main/data/fator_contribuinte.csv'\n",
        "ocorrencia='https://raw.githubusercontent.com/jvmsatiro/datascientist_-challenge/main/data/ocorrencia.csv'\n",
        "ocorrencia_tipo='https://raw.githubusercontent.com/jvmsatiro/datascientist_-challenge/main/data/ocorrencia_tipo.csv'\n",
        "recomendacao='https://raw.githubusercontent.com/jvmsatiro/datascientist_-challenge/main/data/recomendacao.csv'\n"
      ],
      "metadata": {
        "id": "_sdvuC-g2z6G"
      },
      "execution_count": 2,
      "outputs": []
    },
    {
      "cell_type": "code",
      "source": [
        "# Criação dos DataFrames contendo todos os dados importados \n",
        "df_aeronave=pd.read_csv(aeronave,sep=';')\n",
        "df_fator_contribuinte=pd.read_csv(fator_contribuinte,sep=';')\n",
        "df_ocorrencia=pd.read_csv(ocorrencia,sep=';')\n",
        "df_ocorrencia_tipo=pd.read_csv(ocorrencia_tipo,sep=';')\n",
        "df_recomendacao=pd.read_csv(recomendacao,sep=';')\n",
        "\n"
      ],
      "metadata": {
        "id": "J63VgjZA99qs"
      },
      "execution_count": 3,
      "outputs": []
    },
    {
      "cell_type": "code",
      "source": [
        "# Preparação dos dados em um Dataframe Unico feita união usando operação OuterJoin\n",
        "M1=pd.merge(df_ocorrencia,df_aeronave,left_on=['codigo_ocorrencia'],right_on=['codigo_ocorrencia2'],how='outer')\n",
        "M2=pd.merge(M1,df_fator_contribuinte,left_on=['codigo_ocorrencia'],right_on=['codigo_ocorrencia3'],how='outer')\n",
        "M3=pd.merge(M2,df_ocorrencia_tipo,left_on=['codigo_ocorrencia'],right_on=['codigo_ocorrencia1'],how='outer')\n",
        "M4=pd.merge(M3,df_recomendacao,left_on=['codigo_ocorrencia'],right_on=['codigo_ocorrencia4'],how='outer')\n",
        "Data=M4.drop(['codigo_ocorrencia1_x','codigo_ocorrencia2_x','codigo_ocorrencia3_x','codigo_ocorrencia4_x','codigo_ocorrencia2_y','codigo_ocorrencia3_y','codigo_ocorrencia1_y','codigo_ocorrencia4_y'], axis=1)\n"
      ],
      "metadata": {
        "id": "DtjHXtFtYdkw"
      },
      "execution_count": 4,
      "outputs": []
    },
    {
      "cell_type": "code",
      "source": [
        "#pd.set_option(\"display.max_columns\", )\n",
        "pd.set_option(\"display.max_rows\", None)\n",
        "Data.shape \n",
        "Data.columns.shape\n",
        "Data.isna().sum() \n",
        "Data['ocorrencia_tipo'].shape"
      ],
      "metadata": {
        "colab": {
          "base_uri": "https://localhost:8080/"
        },
        "id": "079pgjbqWbY_",
        "outputId": "d631d84f-8b9f-4eeb-9d1a-1a482da59965"
      },
      "execution_count": 86,
      "outputs": [
        {
          "output_type": "execute_result",
          "data": {
            "text/plain": [
              "(12167,)"
            ]
          },
          "metadata": {},
          "execution_count": 86
        }
      ]
    },
    {
      "cell_type": "code",
      "source": [
        "H1= Data.loc[:,['aeronave_matricula','aeronave_operador_categoria','aeronave_tipo_veiculo','aeronave_fabricante','aeronave_modelo','aeronave_tipo_icao','aeronave_motor_tipo','aeronave_motor_quantidade','aeronave_pmd','aeronave_pmd_categoria','aeronave_assentos','aeronave_ano_fabricacao','aeronave_pais_fabricante','aeronave_pais_registro','aeronave_registro_categoria','aeronave_registro_segmento','aeronave_voo_origem','aeronave_voo_destino','aeronave_fase_operacao','aeronave_tipo_operacao','aeronave_nivel_dano','aeronave_fatalidades_total','ocorrencia_tipo']].replace(['***'],np.nan).dropna()\n",
        "X=H1.loc[:,['aeronave_operador_categoria','aeronave_tipo_veiculo','aeronave_fabricante','aeronave_modelo','aeronave_motor_tipo','aeronave_motor_quantidade','aeronave_pais_fabricante','aeronave_pais_registro','aeronave_registro_categoria','aeronave_registro_segmento','aeronave_fase_operacao','aeronave_tipo_operacao','aeronave_nivel_dano']]\n",
        "y=H1.loc[:,['ocorrencia_tipo']]"
      ],
      "metadata": {
        "id": "qpJYoIAqhKw-"
      },
      "execution_count": 5,
      "outputs": []
    },
    {
      "cell_type": "code",
      "source": [
        "from sklearn.preprocessing import LabelEncoder\n",
        "#Pre-processamento de Dados \n",
        "#Inputs\n",
        "le_aeronave_operador_categoria = LabelEncoder()\n",
        "le_aeronave_tipo_veiculo = LabelEncoder()\n",
        "le_aeronave_fabricante = LabelEncoder()\n",
        "le_aeronave_modelo = LabelEncoder()\n",
        "le_aeronave_motor_tipo = LabelEncoder()\n",
        "le_aeronave_motor_quantidade = LabelEncoder()\n",
        "le_aeronave_pais_fabricante = LabelEncoder()\n",
        "le_aeronave_pais_registro = LabelEncoder()\n",
        "le_aeronave_registro_categoria = LabelEncoder()\n",
        "le_aeronave_registro_segmento = LabelEncoder()\n",
        "le_aeronave_fase_operacao = LabelEncoder()\n",
        "le_aeronave_tipo_operacao = LabelEncoder()\n",
        "le_aeronave_nivel_dano = LabelEncoder()\n",
        "\n",
        "#Target\n",
        "le_ocorrencia_tipo = LabelEncoder()"
      ],
      "metadata": {
        "id": "g61lzIqghgDK"
      },
      "execution_count": 6,
      "outputs": []
    },
    {
      "cell_type": "code",
      "source": [
        "#Inputs\n",
        "X['aeronave_operador_categoria_n'] = le_aeronave_operador_categoria.fit_transform(X['aeronave_operador_categoria'])\n",
        "X['aeronave_tipo_veiculo_n'] = le_aeronave_tipo_veiculo.fit_transform(X['aeronave_tipo_veiculo'])\n",
        "X['aeronave_fabricante_n'] = le_aeronave_fabricante.fit_transform(X['aeronave_fabricante'])\n",
        "X['aeronave_modelo_n'] = le_aeronave_modelo.fit_transform(X['aeronave_modelo'])\n",
        "X['aeronave_motor_tipo_n'] = le_aeronave_motor_tipo.fit_transform(X['aeronave_motor_tipo'])\n",
        "X['aeronave_motor_quantidade_n'] = le_aeronave_motor_quantidade.fit_transform(X['aeronave_motor_quantidade'])\n",
        "X['aeronave_pais_fabricante_n'] = le_aeronave_pais_fabricante.fit_transform(X['aeronave_pais_fabricante'])\n",
        "X['aeronave_pais_registro_n'] = le_aeronave_pais_registro.fit_transform(X['aeronave_pais_registro'])\n",
        "X['aeronave_registro_categoria_n'] = le_aeronave_registro_categoria.fit_transform(X['aeronave_registro_categoria'])\n",
        "X['aeronave_registro_segmento_n'] = le_aeronave_registro_segmento.fit_transform(X['aeronave_registro_segmento'])\n",
        "X['aeronave_fase_operacao_n'] = le_aeronave_fase_operacao.fit_transform(X['aeronave_fase_operacao'])\n",
        "X['aeronave_tipo_operacao_n'] = le_aeronave_tipo_operacao.fit_transform(X['aeronave_tipo_operacao'])\n",
        "X['aeronave_nivel_dano_n'] = le_aeronave_nivel_dano.fit_transform(X['aeronave_nivel_dano'])\n",
        "\n",
        "#Target\n",
        "y['le_ocorrencia_tipo_n'] = le_ocorrencia_tipo.fit_transform(y['ocorrencia_tipo'])"
      ],
      "metadata": {
        "id": "32PKTN1TjDL3"
      },
      "execution_count": 7,
      "outputs": []
    },
    {
      "cell_type": "code",
      "source": [
        "X_n = X.drop(['aeronave_operador_categoria','aeronave_tipo_veiculo','aeronave_fabricante','aeronave_modelo','aeronave_motor_tipo','aeronave_motor_quantidade','aeronave_pais_fabricante','aeronave_pais_registro','aeronave_registro_categoria','aeronave_registro_segmento','aeronave_fase_operacao','aeronave_tipo_operacao','aeronave_nivel_dano'],axis='columns')\n",
        "\n",
        "y_n=y.drop(['ocorrencia_tipo'],axis='columns')\n",
        "#Divisão do DataSet \n",
        "from sklearn.model_selection import train_test_split"
      ],
      "metadata": {
        "id": "PIYbelLSoHJc"
      },
      "execution_count": 8,
      "outputs": []
    },
    {
      "cell_type": "code",
      "source": [
        "#Modelo Baseline Utilizado para Classificação \n",
        "from sklearn import tree\n",
        "model = tree.DecisionTreeClassifier()"
      ],
      "metadata": {
        "id": "BxdWBotdozg4"
      },
      "execution_count": 9,
      "outputs": []
    },
    {
      "cell_type": "code",
      "source": [
        "model.fit(X_n,y_n)"
      ],
      "metadata": {
        "colab": {
          "base_uri": "https://localhost:8080/"
        },
        "id": "SzbHyNZmo9T7",
        "outputId": "46127661-23f1-49c9-ada5-cc1559d43cf6"
      },
      "execution_count": 10,
      "outputs": [
        {
          "output_type": "execute_result",
          "data": {
            "text/plain": [
              "DecisionTreeClassifier()"
            ]
          },
          "metadata": {},
          "execution_count": 10
        }
      ]
    },
    {
      "cell_type": "code",
      "source": [
        "model.score(X_n,y_n)"
      ],
      "metadata": {
        "colab": {
          "base_uri": "https://localhost:8080/"
        },
        "id": "u-2Z1SoapsjN",
        "outputId": "b31641ea-b833-43f1-d83f-b0072ab1cc3f"
      },
      "execution_count": 11,
      "outputs": [
        {
          "output_type": "execute_result",
          "data": {
            "text/plain": [
              "0.8145597638957206"
            ]
          },
          "metadata": {},
          "execution_count": 11
        }
      ]
    },
    {
      "cell_type": "code",
      "source": [
        "X_n.shape"
      ],
      "metadata": {
        "colab": {
          "base_uri": "https://localhost:8080/"
        },
        "id": "22A6z_WkjiZ8",
        "outputId": "eebdef1f-6394-45ce-eb7d-825a707fe76b"
      },
      "execution_count": 118,
      "outputs": [
        {
          "output_type": "execute_result",
          "data": {
            "text/plain": [
              "(2033, 13)"
            ]
          },
          "metadata": {},
          "execution_count": 118
        }
      ]
    },
    {
      "cell_type": "code",
      "source": [
        "# Here we use a column with categorical data\n",
        "px.histogram(data_frame=H1,x='aeronave_fatalidades_total')\n"
      ],
      "metadata": {
        "id": "F4037koR1M22"
      },
      "execution_count": null,
      "outputs": []
    },
    {
      "cell_type": "code",
      "source": [
        "px.box(H1, y=\"aeronave_fatalidades_total\")"
      ],
      "metadata": {
        "id": "IbiTAdAVDXgZ"
      },
      "execution_count": null,
      "outputs": []
    },
    {
      "cell_type": "code",
      "source": [
        "px.scatter(Data, x=\"recomendacao_dia_feedback\")"
      ],
      "metadata": {
        "id": "10XTXBNNIiBj"
      },
      "execution_count": null,
      "outputs": []
    }
  ]
}
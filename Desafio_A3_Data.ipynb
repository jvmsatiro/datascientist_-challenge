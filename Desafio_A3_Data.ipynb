{
  "nbformat": 4,
  "nbformat_minor": 0,
  "metadata": {
    "colab": {
      "name": "Desafio_A3_Data.ipynb",
      "provenance": [],
      "authorship_tag": "ABX9TyN7NxUodq17cYzz/CCn7Dxw",
      "include_colab_link": true
    },
    "kernelspec": {
      "name": "python3",
      "display_name": "Python 3"
    },
    "language_info": {
      "name": "python"
    }
  },
  "cells": [
    {
      "cell_type": "markdown",
      "metadata": {
        "id": "view-in-github",
        "colab_type": "text"
      },
      "source": [
        "<a href=\"https://colab.research.google.com/github/jvmsatiro/datascientist_-challenge/blob/main/Desafio_A3_Data.ipynb\" target=\"_parent\"><img src=\"https://colab.research.google.com/assets/colab-badge.svg\" alt=\"Open In Colab\"/></a>"
      ]
    },
    {
      "cell_type": "markdown",
      "source": [
        "Desafio Cientista de Dados A3 Data\n",
        "\n",
        "---\n",
        "\n",
        "Base de Dados: CENIPA - Ocorrências Aeronáuticas na Aviação Civil Brasileira\n",
        "\n",
        "Candidato: João Victor Melquiades Satiro\n",
        "\n",
        "\n",
        "Data:15/06/2022"
      ],
      "metadata": {
        "id": "bZu6BySQ7t2Y"
      }
    },
    {
      "cell_type": "code",
      "execution_count": 3,
      "metadata": {
        "id": "6RlcK_3noev9"
      },
      "outputs": [],
      "source": [
        "# Bibliotecas Utilizadas na Aplicação \n",
        "import pandas as pd\n",
        "\n"
      ]
    },
    {
      "cell_type": "code",
      "source": [
        "# Arquivos de Dados Importados do GitHub \n",
        "aeronave='https://raw.githubusercontent.com/jvmsatiro/datascientist_-challenge/main/data/aeronave.csv'\n",
        "fator_contribuinte='https://raw.githubusercontent.com/jvmsatiro/datascientist_-challenge/main/data/fator_contribuinte.csv'\n",
        "ocorrencia='https://raw.githubusercontent.com/jvmsatiro/datascientist_-challenge/main/data/ocorrencia.csv'\n",
        "ocorrencia_tipo='https://raw.githubusercontent.com/jvmsatiro/datascientist_-challenge/main/data/ocorrencia_tipo.csv'\n",
        "recomendacao='https://raw.githubusercontent.com/jvmsatiro/datascientist_-challenge/main/data/recomendacao.csv'\n"
      ],
      "metadata": {
        "id": "_sdvuC-g2z6G"
      },
      "execution_count": 9,
      "outputs": []
    },
    {
      "cell_type": "code",
      "source": [
        ""
      ],
      "metadata": {
        "id": "J63VgjZA99qs"
      },
      "execution_count": null,
      "outputs": []
    }
  ]
}